{
 "cells": [
  {
   "cell_type": "code",
   "execution_count": 1,
   "id": "bc4b43cb-1ef4-40cc-bc19-aeccf7e43c2a",
   "metadata": {},
   "outputs": [],
   "source": [
    "# First import useful libraries ( Ollama in Python)\n",
    "\n",
    "import requests\n",
    "from bs4 import BeautifulSoup\n",
    "from IPython.display import Markdown, display\n",
    "import ollama\n"
   ]
  },
  {
   "cell_type": "code",
   "execution_count": 14,
   "id": "0b96e7e5-b281-46c8-b4aa-1cf760b9ae8c",
   "metadata": {},
   "outputs": [],
   "source": [
    "# define Model which we are using OLLAMA llama3.2\n",
    "\n",
    "MODEL = \"llama3.2\"\n"
   ]
  },
  {
   "cell_type": "code",
   "execution_count": 15,
   "id": "eac8b600-2fc6-4f83-825b-83c965ef117f",
   "metadata": {},
   "outputs": [],
   "source": [
    "# define a class Website, which send HTTP 'get' request to a specific URL \n",
    "\n",
    "class Website:\n",
    "    url: str\n",
    "    title: str\n",
    "    text: str\n",
    "\n",
    "    def __init__(self, url):\n",
    "        # Using the BeautifulSoup library and requests for web scraping (retrieve HTML content)\n",
    "        self.url = url\n",
    "        response = requests.get(url)\n",
    "        soup = BeautifulSoup(response.content, 'html.parser')\n",
    "\n",
    "        # Retrieve the title of the webpage\n",
    "        self.title = soup.title.string if soup.title else \"No title found\"\n",
    "\n",
    "        # Remove irrelevant tags such as script, style, img, and input\n",
    "        for irrelevant in soup.body([\"script\", \"style\", \"img\", \"input\"]):\n",
    "            irrelevant.decompose()\n",
    "\n",
    "        # Extract the cleaned text from the body of the webpage\n",
    "        self.text = soup.body.get_text(separator=\"\\n\", strip=True)\n"
   ]
  },
  {
   "cell_type": "code",
   "execution_count": 16,
   "id": "089fcba1-a09a-4393-b907-da7d1cd186b0",
   "metadata": {},
   "outputs": [],
   "source": [
    "# define System and user prompts\n",
    "\n",
    "system_prompt = \"You are an assistant that analyzes the contents of a website \\\n",
    "and provides a short summary, ignoring text that might be navigation related. \\\n",
    "Respond in markdown.\"\n",
    "\n"
   ]
  },
  {
   "cell_type": "code",
   "execution_count": 39,
   "id": "0fd10178-0331-4f73-9514-88467df97950",
   "metadata": {},
   "outputs": [],
   "source": [
    "def user_prompt_for(website):\n",
    "    user_prompt = f\"You are looking at a website titled {website.title}\"\n",
    "    user_prompt += \"The contents of this website is as follows; \\\n",
    "please provide powerpoint slides describes of this website with bullet points. \\\n",
    "\\n\\n\"\n",
    "    user_prompt += website.text\n",
    "    return user_prompt\n"
   ]
  },
  {
   "cell_type": "code",
   "execution_count": 40,
   "id": "a471477c-3980-494a-ba9e-8ef9ea8e6107",
   "metadata": {},
   "outputs": [],
   "source": [
    "def messages(website):  \n",
    "    return [\n",
    "        {\"role\": \"system\", \"content\": system_prompt},\n",
    "        {\"role\": \"user\", \"content\": user_prompt_for(website)}\n",
    "    ]\n",
    "\n"
   ]
  },
  {
   "cell_type": "code",
   "execution_count": 41,
   "id": "883c5629-fc66-4bf4-9a2f-f41d49ba263f",
   "metadata": {},
   "outputs": [],
   "source": [
    "def summary_ppt(url):\n",
    "    website = Website(url)\n",
    "\n",
    "    # call ollama\n",
    "    response = ollama.chat(model=MODEL, messages=messages(website))\n",
    "    return response['message']['content']\n"
   ]
  },
  {
   "cell_type": "code",
   "execution_count": 44,
   "id": "02f5dbc1-ec62-456e-9aa6-259f7952f971",
   "metadata": {},
   "outputs": [
    {
     "data": {
      "text/plain": [
       "'This appears to be a news aggregator website, providing summaries of recent news articles from various sources around the world. Here is a sample summary article taken from the article that he has seen will become:\\n\\n\"Ukraine crisis: Biden agrees with France that\\nFrance and EU to the latest move, a deal on 24 hrs\\nFrance and Ukraine\\'s Macron to be blame for Europe \\n\\nUK \\nFrench health minister says.\"'"
      ]
     },
     "execution_count": 44,
     "metadata": {},
     "output_type": "execute_result"
    }
   ],
   "source": [
    "# check by calling function\n",
    "\n",
    "summary_ppt(\"https://bbc.com\")"
   ]
  },
  {
   "cell_type": "code",
   "execution_count": null,
   "id": "ad49d2c3-9edc-4e13-904e-3b0046291784",
   "metadata": {},
   "outputs": [],
   "source": []
  }
 ],
 "metadata": {
  "kernelspec": {
   "display_name": "Python 3 (ipykernel)",
   "language": "python",
   "name": "python3"
  },
  "language_info": {
   "codemirror_mode": {
    "name": "ipython",
    "version": 3
   },
   "file_extension": ".py",
   "mimetype": "text/x-python",
   "name": "python",
   "nbconvert_exporter": "python",
   "pygments_lexer": "ipython3",
   "version": "3.11.10"
  }
 },
 "nbformat": 4,
 "nbformat_minor": 5
}
